{
 "cells": [
  {
   "cell_type": "markdown",
   "metadata": {},
   "source": [
    "This Notebook is an attempt to show how R can be used for simple exploratory analysis on a Dataset with multiple Categorical Variables as well as Date data"
   ]
  },
  {
   "cell_type": "code",
   "execution_count": 1,
   "metadata": {},
   "outputs": [
    {
     "name": "stderr",
     "output_type": "stream",
     "text": [
      "\n",
      "Attaching package: 'dplyr'\n",
      "\n",
      "\n",
      "The following objects are masked from 'package:stats':\n",
      "\n",
      "    filter, lag\n",
      "\n",
      "\n",
      "The following objects are masked from 'package:base':\n",
      "\n",
      "    intersect, setdiff, setequal, union\n",
      "\n",
      "\n"
     ]
    }
   ],
   "source": [
    "#Load Required Libraries\n",
    "library(readr)\n",
    "library(dplyr)\n",
    "library(magrittr)\n",
    "library(ggplot2)"
   ]
  },
  {
   "cell_type": "code",
   "execution_count": 2,
   "metadata": {},
   "outputs": [],
   "source": [
    "#Import the Data, you can use the 'stringsAsFactors = TRUE' argument if you wish\n",
    "raw_data <- read.csv(\"C:/Users/Steve/Desktop/Portfolio/Datasets/Industrial Safety and Health Analytics Data/IHMStefanini_industrial_safety_and_health_database_with_accidents_description.csv\")"
   ]
  },
  {
   "cell_type": "markdown",
   "metadata": {},
   "source": [
    "###  Data exploration to help us understand the dataset"
   ]
  },
  {
   "cell_type": "code",
   "execution_count": 3,
   "metadata": {},
   "outputs": [
    {
     "data": {
      "text/html": [
       "<table>\n",
       "<caption>A data.frame: 6 × 11</caption>\n",
       "<thead>\n",
       "\t<tr><th></th><th scope=col>X</th><th scope=col>Data</th><th scope=col>Countries</th><th scope=col>Local</th><th scope=col>Industry.Sector</th><th scope=col>Accident.Level</th><th scope=col>Potential.Accident.Level</th><th scope=col>Genre</th><th scope=col>Employee.or.Third.Party</th><th scope=col>Critical.Risk</th><th scope=col>Description</th></tr>\n",
       "\t<tr><th></th><th scope=col>&lt;int&gt;</th><th scope=col>&lt;chr&gt;</th><th scope=col>&lt;chr&gt;</th><th scope=col>&lt;chr&gt;</th><th scope=col>&lt;chr&gt;</th><th scope=col>&lt;chr&gt;</th><th scope=col>&lt;chr&gt;</th><th scope=col>&lt;chr&gt;</th><th scope=col>&lt;chr&gt;</th><th scope=col>&lt;chr&gt;</th><th scope=col>&lt;chr&gt;</th></tr>\n",
       "</thead>\n",
       "<tbody>\n",
       "\t<tr><th scope=row>1</th><td>0</td><td>2016-01-01 00:00:00</td><td>Country_01</td><td>Local_01</td><td>Mining</td><td>I </td><td>IV </td><td>Male</td><td>Third Party         </td><td>Pressed            </td><td>While removing the drill rod of the Jumbo 08 for maintenance, the supervisor proceeds to loosen the support of the intermediate centralizer to facilitate the removal, seeing this the mechanic supports one end on the drill of the equipment to pull with both hands the bar and accelerate the removal from this, at this moment the bar slides from its point of support and tightens the fingers of the mechanic between the drilling bar and the beam of the jumbo.                                                                                                          </td></tr>\n",
       "\t<tr><th scope=row>2</th><td>1</td><td>2016-01-02 00:00:00</td><td>Country_02</td><td>Local_02</td><td>Mining</td><td>I </td><td>IV </td><td>Male</td><td>Employee            </td><td>Pressurized Systems</td><td>During the activation of a sodium sulphide pump, the piping was uncoupled and the sulfide solution was designed in the area to reach the maid. Immediately she made use of the emergency shower and was directed to the ambulatory doctor and later to the hospital. Note: of sulphide solution = 48 grams / liter.                                                                                                                                                                                                                                                                </td></tr>\n",
       "\t<tr><th scope=row>3</th><td>2</td><td>2016-01-06 00:00:00</td><td>Country_01</td><td>Local_03</td><td>Mining</td><td>I </td><td>III</td><td>Male</td><td>Third Party (Remote)</td><td>Manual Tools       </td><td>In the sub-station MILPO located at level +170 when the collaborator was doing the excavation work with a pick (hand tool), hitting a rock with the flat part of the beak, it bounces off hitting the steel tip of the safety shoe and then the metatarsal area of â€‹â€‹the left foot of the collaborator causing the injury.                                                                                                                                                                                                                                                     </td></tr>\n",
       "\t<tr><th scope=row>4</th><td>3</td><td>2016-01-08 00:00:00</td><td>Country_01</td><td>Local_04</td><td>Mining</td><td>I </td><td>I  </td><td>Male</td><td>Third Party         </td><td>Others             </td><td>Being 9:45 am. approximately in the Nv. 1880 CX-695 OB7, the personnel begins the task of unlocking the Soquet bolts of the BHB machine, when they were in the penultimate bolt they identified that the hexagonal head was worn, proceeding Mr. CristÃ³bal - Auxiliary assistant to climb to the platform to exert pressure with your hand on the \"DADO\" key, to prevent it from coming out of the bolt; in those moments two collaborators rotate with the lever in anti-clockwise direction, leaving the key of the bolt, hitting the palm of the left hand, causing the injury.</td></tr>\n",
       "\t<tr><th scope=row>5</th><td>4</td><td>2016-01-10 00:00:00</td><td>Country_01</td><td>Local_04</td><td>Mining</td><td>IV</td><td>IV </td><td>Male</td><td>Third Party         </td><td>Others             </td><td>Approximately at 11:45 a.m. in circumstances that the mechanics Anthony (group leader), Eduardo and Eric FernÃ¡ndez-injured-the three of the Company IMPROMEC, performed the removal of the pulley of the motor of the pump 3015 in the ZAF of Marcy. 27 cm / Length: 33 cm / Weight: 70 kg), as it was locked proceed to heating the pulley to loosen it, it comes out and falls from a distance of 1.06 meters high and hits the instep of the right foot of the worker, causing the injury described.                                                                           </td></tr>\n",
       "\t<tr><th scope=row>6</th><td>5</td><td>2016-01-12 00:00:00</td><td>Country_02</td><td>Local_05</td><td>Metals</td><td>I </td><td>III</td><td>Male</td><td>Third Party (Remote)</td><td>Pressurized Systems</td><td>During the unloading operation of the ustulado Bag there was a need to unclog the discharge mouth of the silo truck. In performing this procedure, there was a maneuver of unhooking the hose without the total depressurisation of the mouth, projecting ustulado powder in the collaborator caused irritation in the eyes.                                                                                                                                                                                                                                                       </td></tr>\n",
       "</tbody>\n",
       "</table>\n"
      ],
      "text/latex": [
       "A data.frame: 6 × 11\n",
       "\\begin{tabular}{r|lllllllllll}\n",
       "  & X & Data & Countries & Local & Industry.Sector & Accident.Level & Potential.Accident.Level & Genre & Employee.or.Third.Party & Critical.Risk & Description\\\\\n",
       "  & <int> & <chr> & <chr> & <chr> & <chr> & <chr> & <chr> & <chr> & <chr> & <chr> & <chr>\\\\\n",
       "\\hline\n",
       "\t1 & 0 & 2016-01-01 00:00:00 & Country\\_01 & Local\\_01 & Mining & I  & IV  & Male & Third Party          & Pressed             & While removing the drill rod of the Jumbo 08 for maintenance, the supervisor proceeds to loosen the support of the intermediate centralizer to facilitate the removal, seeing this the mechanic supports one end on the drill of the equipment to pull with both hands the bar and accelerate the removal from this, at this moment the bar slides from its point of support and tightens the fingers of the mechanic between the drilling bar and the beam of the jumbo.                                                                                                          \\\\\n",
       "\t2 & 1 & 2016-01-02 00:00:00 & Country\\_02 & Local\\_02 & Mining & I  & IV  & Male & Employee             & Pressurized Systems & During the activation of a sodium sulphide pump, the piping was uncoupled and the sulfide solution was designed in the area to reach the maid. Immediately she made use of the emergency shower and was directed to the ambulatory doctor and later to the hospital. Note: of sulphide solution = 48 grams / liter.                                                                                                                                                                                                                                                                \\\\\n",
       "\t3 & 2 & 2016-01-06 00:00:00 & Country\\_01 & Local\\_03 & Mining & I  & III & Male & Third Party (Remote) & Manual Tools        & In the sub-station MILPO located at level +170 when the collaborator was doing the excavation work with a pick (hand tool), hitting a rock with the flat part of the beak, it bounces off hitting the steel tip of the safety shoe and then the metatarsal area of â€‹â€‹the left foot of the collaborator causing the injury.                                                                                                                                                                                                                                                     \\\\\n",
       "\t4 & 3 & 2016-01-08 00:00:00 & Country\\_01 & Local\\_04 & Mining & I  & I   & Male & Third Party          & Others              & Being 9:45 am. approximately in the Nv. 1880 CX-695 OB7, the personnel begins the task of unlocking the Soquet bolts of the BHB machine, when they were in the penultimate bolt they identified that the hexagonal head was worn, proceeding Mr. CristÃ³bal - Auxiliary assistant to climb to the platform to exert pressure with your hand on the \"DADO\" key, to prevent it from coming out of the bolt; in those moments two collaborators rotate with the lever in anti-clockwise direction, leaving the key of the bolt, hitting the palm of the left hand, causing the injury.\\\\\n",
       "\t5 & 4 & 2016-01-10 00:00:00 & Country\\_01 & Local\\_04 & Mining & IV & IV  & Male & Third Party          & Others              & Approximately at 11:45 a.m. in circumstances that the mechanics Anthony (group leader), Eduardo and Eric FernÃ¡ndez-injured-the three of the Company IMPROMEC, performed the removal of the pulley of the motor of the pump 3015 in the ZAF of Marcy. 27 cm / Length: 33 cm / Weight: 70 kg), as it was locked proceed to heating the pulley to loosen it, it comes out and falls from a distance of 1.06 meters high and hits the instep of the right foot of the worker, causing the injury described.                                                                           \\\\\n",
       "\t6 & 5 & 2016-01-12 00:00:00 & Country\\_02 & Local\\_05 & Metals & I  & III & Male & Third Party (Remote) & Pressurized Systems & During the unloading operation of the ustulado Bag there was a need to unclog the discharge mouth of the silo truck. In performing this procedure, there was a maneuver of unhooking the hose without the total depressurisation of the mouth, projecting ustulado powder in the collaborator caused irritation in the eyes.                                                                                                                                                                                                                                                       \\\\\n",
       "\\end{tabular}\n"
      ],
      "text/markdown": [
       "\n",
       "A data.frame: 6 × 11\n",
       "\n",
       "| <!--/--> | X &lt;int&gt; | Data &lt;chr&gt; | Countries &lt;chr&gt; | Local &lt;chr&gt; | Industry.Sector &lt;chr&gt; | Accident.Level &lt;chr&gt; | Potential.Accident.Level &lt;chr&gt; | Genre &lt;chr&gt; | Employee.or.Third.Party &lt;chr&gt; | Critical.Risk &lt;chr&gt; | Description &lt;chr&gt; |\n",
       "|---|---|---|---|---|---|---|---|---|---|---|---|\n",
       "| 1 | 0 | 2016-01-01 00:00:00 | Country_01 | Local_01 | Mining | I  | IV  | Male | Third Party          | Pressed             | While removing the drill rod of the Jumbo 08 for maintenance, the supervisor proceeds to loosen the support of the intermediate centralizer to facilitate the removal, seeing this the mechanic supports one end on the drill of the equipment to pull with both hands the bar and accelerate the removal from this, at this moment the bar slides from its point of support and tightens the fingers of the mechanic between the drilling bar and the beam of the jumbo.                                                                                                           |\n",
       "| 2 | 1 | 2016-01-02 00:00:00 | Country_02 | Local_02 | Mining | I  | IV  | Male | Employee             | Pressurized Systems | During the activation of a sodium sulphide pump, the piping was uncoupled and the sulfide solution was designed in the area to reach the maid. Immediately she made use of the emergency shower and was directed to the ambulatory doctor and later to the hospital. Note: of sulphide solution = 48 grams / liter.                                                                                                                                                                                                                                                                 |\n",
       "| 3 | 2 | 2016-01-06 00:00:00 | Country_01 | Local_03 | Mining | I  | III | Male | Third Party (Remote) | Manual Tools        | In the sub-station MILPO located at level +170 when the collaborator was doing the excavation work with a pick (hand tool), hitting a rock with the flat part of the beak, it bounces off hitting the steel tip of the safety shoe and then the metatarsal area of â€‹â€‹the left foot of the collaborator causing the injury.                                                                                                                                                                                                                                                      |\n",
       "| 4 | 3 | 2016-01-08 00:00:00 | Country_01 | Local_04 | Mining | I  | I   | Male | Third Party          | Others              | Being 9:45 am. approximately in the Nv. 1880 CX-695 OB7, the personnel begins the task of unlocking the Soquet bolts of the BHB machine, when they were in the penultimate bolt they identified that the hexagonal head was worn, proceeding Mr. CristÃ³bal - Auxiliary assistant to climb to the platform to exert pressure with your hand on the \"DADO\" key, to prevent it from coming out of the bolt; in those moments two collaborators rotate with the lever in anti-clockwise direction, leaving the key of the bolt, hitting the palm of the left hand, causing the injury. |\n",
       "| 5 | 4 | 2016-01-10 00:00:00 | Country_01 | Local_04 | Mining | IV | IV  | Male | Third Party          | Others              | Approximately at 11:45 a.m. in circumstances that the mechanics Anthony (group leader), Eduardo and Eric FernÃ¡ndez-injured-the three of the Company IMPROMEC, performed the removal of the pulley of the motor of the pump 3015 in the ZAF of Marcy. 27 cm / Length: 33 cm / Weight: 70 kg), as it was locked proceed to heating the pulley to loosen it, it comes out and falls from a distance of 1.06 meters high and hits the instep of the right foot of the worker, causing the injury described.                                                                            |\n",
       "| 6 | 5 | 2016-01-12 00:00:00 | Country_02 | Local_05 | Metals | I  | III | Male | Third Party (Remote) | Pressurized Systems | During the unloading operation of the ustulado Bag there was a need to unclog the discharge mouth of the silo truck. In performing this procedure, there was a maneuver of unhooking the hose without the total depressurisation of the mouth, projecting ustulado powder in the collaborator caused irritation in the eyes.                                                                                                                                                                                                                                                        |\n",
       "\n"
      ],
      "text/plain": [
       "  X Data                Countries  Local    Industry.Sector Accident.Level\n",
       "1 0 2016-01-01 00:00:00 Country_01 Local_01 Mining          I             \n",
       "2 1 2016-01-02 00:00:00 Country_02 Local_02 Mining          I             \n",
       "3 2 2016-01-06 00:00:00 Country_01 Local_03 Mining          I             \n",
       "4 3 2016-01-08 00:00:00 Country_01 Local_04 Mining          I             \n",
       "5 4 2016-01-10 00:00:00 Country_01 Local_04 Mining          IV            \n",
       "6 5 2016-01-12 00:00:00 Country_02 Local_05 Metals          I             \n",
       "  Potential.Accident.Level Genre Employee.or.Third.Party Critical.Risk      \n",
       "1 IV                       Male  Third Party             Pressed            \n",
       "2 IV                       Male  Employee                Pressurized Systems\n",
       "3 III                      Male  Third Party (Remote)    Manual Tools       \n",
       "4 I                        Male  Third Party             Others             \n",
       "5 IV                       Male  Third Party             Others             \n",
       "6 III                      Male  Third Party (Remote)    Pressurized Systems\n",
       "  Description                                                                                                                                                                                                                                                                                                                                                                                                                                                                                                                                                                        \n",
       "1 While removing the drill rod of the Jumbo 08 for maintenance, the supervisor proceeds to loosen the support of the intermediate centralizer to facilitate the removal, seeing this the mechanic supports one end on the drill of the equipment to pull with both hands the bar and accelerate the removal from this, at this moment the bar slides from its point of support and tightens the fingers of the mechanic between the drilling bar and the beam of the jumbo.                                                                                                          \n",
       "2 During the activation of a sodium sulphide pump, the piping was uncoupled and the sulfide solution was designed in the area to reach the maid. Immediately she made use of the emergency shower and was directed to the ambulatory doctor and later to the hospital. Note: of sulphide solution = 48 grams / liter.                                                                                                                                                                                                                                                                \n",
       "3 In the sub-station MILPO located at level +170 when the collaborator was doing the excavation work with a pick (hand tool), hitting a rock with the flat part of the beak, it bounces off hitting the steel tip of the safety shoe and then the metatarsal area of â\\200‹â\\200‹the left foot of the collaborator causing the injury.                                                                                                                                                                                                                                                     \n",
       "4 Being 9:45 am. approximately in the Nv. 1880 CX-695 OB7, the personnel begins the task of unlocking the Soquet bolts of the BHB machine, when they were in the penultimate bolt they identified that the hexagonal head was worn, proceeding Mr. CristÃ³bal - Auxiliary assistant to climb to the platform to exert pressure with your hand on the \"DADO\" key, to prevent it from coming out of the bolt; in those moments two collaborators rotate with the lever in anti-clockwise direction, leaving the key of the bolt, hitting the palm of the left hand, causing the injury.\n",
       "5 Approximately at 11:45 a.m. in circumstances that the mechanics Anthony (group leader), Eduardo and Eric FernÃ¡ndez-injured-the three of the Company IMPROMEC, performed the removal of the pulley of the motor of the pump 3015 in the ZAF of Marcy. 27 cm / Length: 33 cm / Weight: 70 kg), as it was locked proceed to heating the pulley to loosen it, it comes out and falls from a distance of 1.06 meters high and hits the instep of the right foot of the worker, causing the injury described.                                                                           \n",
       "6 During the unloading operation of the ustulado Bag there was a need to unclog the discharge mouth of the silo truck. In performing this procedure, there was a maneuver of unhooking the hose without the total depressurisation of the mouth, projecting ustulado powder in the collaborator caused irritation in the eyes.                                                                                                                                                                                                                                                       "
      ]
     },
     "metadata": {},
     "output_type": "display_data"
    }
   ],
   "source": [
    "#Preview the first 6 observations of the dataset\n",
    "head(raw_data)"
   ]
  },
  {
   "cell_type": "code",
   "execution_count": 4,
   "metadata": {},
   "outputs": [
    {
     "data": {
      "text/plain": [
       "       X             Data            Countries            Local          \n",
       " Min.   :  0.0   Length:425         Length:425         Length:425        \n",
       " 1st Qu.:118.0   Class :character   Class :character   Class :character  \n",
       " Median :226.0   Mode  :character   Mode  :character   Mode  :character  \n",
       " Mean   :224.1                                                           \n",
       " 3rd Qu.:332.0                                                           \n",
       " Max.   :438.0                                                           \n",
       " Industry.Sector    Accident.Level     Potential.Accident.Level\n",
       " Length:425         Length:425         Length:425              \n",
       " Class :character   Class :character   Class :character        \n",
       " Mode  :character   Mode  :character   Mode  :character        \n",
       "                                                               \n",
       "                                                               \n",
       "                                                               \n",
       "    Genre           Employee.or.Third.Party Critical.Risk     \n",
       " Length:425         Length:425              Length:425        \n",
       " Class :character   Class :character        Class :character  \n",
       " Mode  :character   Mode  :character        Mode  :character  \n",
       "                                                              \n",
       "                                                              \n",
       "                                                              \n",
       " Description       \n",
       " Length:425        \n",
       " Class :character  \n",
       " Mode  :character  \n",
       "                   \n",
       "                   \n",
       "                   "
      ]
     },
     "metadata": {},
     "output_type": "display_data"
    }
   ],
   "source": [
    "#Get summary statistics of the dataset\n",
    "summary(raw_data)"
   ]
  },
  {
   "cell_type": "code",
   "execution_count": 5,
   "metadata": {},
   "outputs": [],
   "source": [
    "#Convert the dataset to a data table to allow for enhanced operations\n",
    "raw_data <- data.table::as.data.table(raw_data)"
   ]
  },
  {
   "cell_type": "code",
   "execution_count": 6,
   "metadata": {},
   "outputs": [
    {
     "name": "stdout",
     "output_type": "stream",
     "text": [
      "Classes 'data.table' and 'data.frame':\t425 obs. of  11 variables:\n",
      " $ X                       : int  0 1 2 3 4 5 6 7 8 9 ...\n",
      " $ Data                    : chr  \"2016-01-01 00:00:00\" \"2016-01-02 00:00:00\" \"2016-01-06 00:00:00\" \"2016-01-08 00:00:00\" ...\n",
      " $ Countries               : chr  \"Country_01\" \"Country_02\" \"Country_01\" \"Country_01\" ...\n",
      " $ Local                   : chr  \"Local_01\" \"Local_02\" \"Local_03\" \"Local_04\" ...\n",
      " $ Industry.Sector         : chr  \"Mining\" \"Mining\" \"Mining\" \"Mining\" ...\n",
      " $ Accident.Level          : chr  \"I\" \"I\" \"I\" \"I\" ...\n",
      " $ Potential.Accident.Level: chr  \"IV\" \"IV\" \"III\" \"I\" ...\n",
      " $ Genre                   : chr  \"Male\" \"Male\" \"Male\" \"Male\" ...\n",
      " $ Employee.or.Third.Party : chr  \"Third Party\" \"Employee\" \"Third Party (Remote)\" \"Third Party\" ...\n",
      " $ Critical.Risk           : chr  \"Pressed\" \"Pressurized Systems\" \"Manual Tools\" \"Others\" ...\n",
      " $ Description             : chr  \"While removing the drill rod of the Jumbo 08 for maintenance, the supervisor proceeds to loosen the support of \"| __truncated__ \"During the activation of a sodium sulphide pump, the piping was uncoupled and the sulfide solution was designed\"| __truncated__ \"In the sub-station MILPO located at level +170 when the collaborator was doing the excavation work with a pick \"| __truncated__ \"Being 9:45 am. approximately in the Nv. 1880 CX-695 OB7, the personnel begins the task of unlocking the Soquet \"| __truncated__ ...\n",
      " - attr(*, \".internal.selfref\")=<externalptr> \n"
     ]
    }
   ],
   "source": [
    "#Confirm data type of the dataset and it's variables\n",
    "str(raw_data)"
   ]
  },
  {
   "cell_type": "markdown",
   "metadata": {},
   "source": [
    "### After Inspecting the dataset, Remove variables that aren't needed, and convert the variables into the correct data type"
   ]
  },
  {
   "cell_type": "code",
   "execution_count": 7,
   "metadata": {},
   "outputs": [],
   "source": [
    "#Drop the X variable\n",
    "raw_data <- select(raw_data, - X)"
   ]
  },
  {
   "cell_type": "code",
   "execution_count": 8,
   "metadata": {},
   "outputs": [],
   "source": [
    "#Convert grouped Variables to Correct Data type\n",
    "raw_data %<>% mutate_if(is.character,as.factor)"
   ]
  },
  {
   "cell_type": "code",
   "execution_count": 9,
   "metadata": {},
   "outputs": [],
   "source": [
    "#Convert Description Variable to character\n",
    "raw_data$Description <- as.character(raw_data$Description, as.character)"
   ]
  },
  {
   "cell_type": "code",
   "execution_count": 10,
   "metadata": {},
   "outputs": [],
   "source": [
    "#Convert Data Variable to Date, and change the column name to Date\n",
    "raw_data$Data <- strptime(raw_data$Data, \"%Y-%m-%d %H:%M\")"
   ]
  },
  {
   "cell_type": "code",
   "execution_count": 11,
   "metadata": {},
   "outputs": [
    {
     "name": "stderr",
     "output_type": "stream",
     "text": [
      "\n",
      "Attaching package: 'data.table'\n",
      "\n",
      "\n",
      "The following objects are masked from 'package:dplyr':\n",
      "\n",
      "    between, first, last\n",
      "\n",
      "\n"
     ]
    }
   ],
   "source": [
    "#Rename Data and Genre columns\n",
    "library(data.table)\n",
    "setnames(raw_data, c(\"Data\", \"Genre\"), c(\"Date\", \"Gender\"))"
   ]
  },
  {
   "cell_type": "code",
   "execution_count": 12,
   "metadata": {},
   "outputs": [
    {
     "ename": "ERROR",
     "evalue": "Error in vis_miss(raw_data[, 2:9]): could not find function \"vis_miss\"\n",
     "output_type": "error",
     "traceback": [
      "Error in vis_miss(raw_data[, 2:9]): could not find function \"vis_miss\"\nTraceback:\n"
     ]
    }
   ],
   "source": [
    "#Inspect Data for missing values\n",
    "vis_miss(raw_data[,2:9])"
   ]
  },
  {
   "cell_type": "markdown",
   "metadata": {},
   "source": [
    "### Test for Relations between the variables using contigency tables"
   ]
  },
  {
   "cell_type": "code",
   "execution_count": 13,
   "metadata": {},
   "outputs": [
    {
     "data": {
      "text/plain": [
       "            \n",
       "               I  II III  IV   V\n",
       "  Country_01 180  19  21  23   8\n",
       "  Country_02  99  19   7   5   0\n",
       "  Country_03  37   2   3   2   0"
      ]
     },
     "metadata": {},
     "output_type": "display_data"
    }
   ],
   "source": [
    "#Relations between Country and Accident Level\n",
    "table(raw_data[,2], raw_data[,5])"
   ]
  },
  {
   "cell_type": "code",
   "execution_count": 14,
   "metadata": {},
   "outputs": [
    {
     "data": {
      "text/plain": [
       "        \n",
       "           I  II III  IV   V\n",
       "  Metals 107  12   7   7   1\n",
       "  Mining 167  26  20  21   7\n",
       "  Others  42   2   4   2   0"
      ]
     },
     "metadata": {},
     "output_type": "display_data"
    }
   ],
   "source": [
    "#Relations between Industry Sector and Accident Level\n",
    "table(raw_data[,4], raw_data[,5])"
   ]
  },
  {
   "cell_type": "code",
   "execution_count": 15,
   "metadata": {},
   "outputs": [
    {
     "data": {
      "text/html": [
       "<table>\n",
       "<caption>A grouped_df: 6 × 4</caption>\n",
       "<thead>\n",
       "\t<tr><th scope=col>Countries</th><th scope=col>Industry.Sector</th><th scope=col>Gender</th><th scope=col>n</th></tr>\n",
       "\t<tr><th scope=col>&lt;fct&gt;</th><th scope=col>&lt;fct&gt;</th><th scope=col>&lt;fct&gt;</th><th scope=col>&lt;int&gt;</th></tr>\n",
       "</thead>\n",
       "<tbody>\n",
       "\t<tr><td>Country_01</td><td>Metals</td><td>Female</td><td>  2</td></tr>\n",
       "\t<tr><td>Country_01</td><td>Metals</td><td>Male  </td><td> 44</td></tr>\n",
       "\t<tr><td>Country_01</td><td>Mining</td><td>Female</td><td>  4</td></tr>\n",
       "\t<tr><td>Country_01</td><td>Mining</td><td>Male  </td><td>199</td></tr>\n",
       "\t<tr><td>Country_01</td><td>Others</td><td>Female</td><td>  1</td></tr>\n",
       "\t<tr><td>Country_01</td><td>Others</td><td>Male  </td><td>  1</td></tr>\n",
       "</tbody>\n",
       "</table>\n"
      ],
      "text/latex": [
       "A grouped\\_df: 6 × 4\n",
       "\\begin{tabular}{llll}\n",
       " Countries & Industry.Sector & Gender & n\\\\\n",
       " <fct> & <fct> & <fct> & <int>\\\\\n",
       "\\hline\n",
       "\t Country\\_01 & Metals & Female &   2\\\\\n",
       "\t Country\\_01 & Metals & Male   &  44\\\\\n",
       "\t Country\\_01 & Mining & Female &   4\\\\\n",
       "\t Country\\_01 & Mining & Male   & 199\\\\\n",
       "\t Country\\_01 & Others & Female &   1\\\\\n",
       "\t Country\\_01 & Others & Male   &   1\\\\\n",
       "\\end{tabular}\n"
      ],
      "text/markdown": [
       "\n",
       "A grouped_df: 6 × 4\n",
       "\n",
       "| Countries &lt;fct&gt; | Industry.Sector &lt;fct&gt; | Gender &lt;fct&gt; | n &lt;int&gt; |\n",
       "|---|---|---|---|\n",
       "| Country_01 | Metals | Female |   2 |\n",
       "| Country_01 | Metals | Male   |  44 |\n",
       "| Country_01 | Mining | Female |   4 |\n",
       "| Country_01 | Mining | Male   | 199 |\n",
       "| Country_01 | Others | Female |   1 |\n",
       "| Country_01 | Others | Male   |   1 |\n",
       "\n"
      ],
      "text/plain": [
       "  Countries  Industry.Sector Gender n  \n",
       "1 Country_01 Metals          Female   2\n",
       "2 Country_01 Metals          Male    44\n",
       "3 Country_01 Mining          Female   4\n",
       "4 Country_01 Mining          Male   199\n",
       "5 Country_01 Others          Female   1\n",
       "6 Country_01 Others          Male     1"
      ]
     },
     "metadata": {},
     "output_type": "display_data"
    }
   ],
   "source": [
    "#Aggregating Data\n",
    "ct <- raw_data %>%\n",
    "  group_by(Countries, Industry.Sector) %>%\n",
    "  count(Gender)\n",
    "head(ct)"
   ]
  },
  {
   "cell_type": "markdown",
   "metadata": {},
   "source": [
    "### Visual Exploratory Analysis"
   ]
  },
  {
   "cell_type": "code",
   "execution_count": 16,
   "metadata": {},
   "outputs": [
    {
     "data": {
      "image/png": "[encoded data removed]",
      "text/plain": [
       "plot without title"
      ]
     },
     "metadata": {
      "image/png": {
       "height": 420,
       "width": 420
      }
     },
     "output_type": "display_data"
    }
   ],
   "source": [
    "ecols <- c(Mining = \"brown2\",  Metals = \"blue2\",\n",
    "           Others = \"green4\")\n",
    "\n",
    "ggplot(raw_data) + \n",
    "  geom_bar(aes(x = Accident.Level, fill = Industry.Sector)) + \n",
    "  scale_fill_manual(values = ecols) +\n",
    "  facet_wrap(~ Gender)"
   ]
  },
  {
   "cell_type": "code",
   "execution_count": 17,
   "metadata": {},
   "outputs": [],
   "source": [
    "#Line Graph for Accident Frequencies by Date\n",
    "#Convert Date Variable from POSIXlt to POSIXct\n",
    "raw_data$Date <- as.POSIXct(raw_data$Date, format=\"%Y-%m-%d\")"
   ]
  },
  {
   "cell_type": "code",
   "execution_count": 18,
   "metadata": {},
   "outputs": [
    {
     "data": {
      "image/png": "[encoded data removed]",
      "text/plain": [
       "plot without title"
      ]
     },
     "metadata": {
      "image/png": {
       "height": 420,
       "width": 420
      }
     },
     "output_type": "display_data"
    }
   ],
   "source": [
    "#Create a data frame \n",
    "short.date.agg <- raw_data %>%\n",
    "  mutate(ym = format(Date, \"%Y-%m\")) %>%\n",
    "  group_by(ym) %>%\n",
    "  count()\n",
    "\n",
    "ggplot(short.date.agg, aes(ym, n, group = 1)) +\n",
    "  geom_point() + \n",
    "  geom_line(color = \"#00AFBB\", size = 1) + \n",
    "  ggtitle(\"Accident Frequency by Month-Year \") +\n",
    "  xlab(\"Date\") + ylab(\"Count\") +\n",
    "  theme(axis.text.x = element_text(angle = 90, hjust = 1, size =8))"
   ]
  },
  {
   "cell_type": "markdown",
   "metadata": {},
   "source": [
    "### Sentiment Analysis of the Description Variable"
   ]
  },
  {
   "cell_type": "code",
   "execution_count": 19,
   "metadata": {},
   "outputs": [],
   "source": [
    "#Load Libraries\n",
    "library(tidytext)"
   ]
  },
  {
   "cell_type": "code",
   "execution_count": 20,
   "metadata": {},
   "outputs": [],
   "source": [
    "#Split Variable into words\n",
    "desc <- strsplit(raw_data$Description, split = \" \")\n",
    "desc <- unlist(desc)"
   ]
  },
  {
   "cell_type": "code",
   "execution_count": 21,
   "metadata": {},
   "outputs": [],
   "source": [
    "#Remove punctuations\n",
    "desc <- gsub(\"[[:punct:][:blank:]]+\", \"\", desc)"
   ]
  },
  {
   "cell_type": "code",
   "execution_count": 22,
   "metadata": {},
   "outputs": [],
   "source": [
    "#convert text to lowercase\n",
    "desc <- tolower(desc)"
   ]
  },
  {
   "cell_type": "code",
   "execution_count": 23,
   "metadata": {},
   "outputs": [],
   "source": [
    "#Remove stop words\n",
    "desc_df <- data.frame(word = desc)\n",
    "mb <- anti_join(desc_df, stop_words, by = 'word' )"
   ]
  },
  {
   "cell_type": "code",
   "execution_count": 24,
   "metadata": {},
   "outputs": [
    {
     "data": {
      "text/html": [
       "<table>\n",
       "<caption>A tibble: 3222 × 2</caption>\n",
       "<thead>\n",
       "\t<tr><th scope=col>word</th><th scope=col>n</th></tr>\n",
       "\t<tr><th scope=col>&lt;chr&gt;</th><th scope=col>&lt;int&gt;</th></tr>\n",
       "</thead>\n",
       "<tbody>\n",
       "\t<tr><td>causing      </td><td>166</td></tr>\n",
       "\t<tr><td>hand         </td><td>166</td></tr>\n",
       "\t<tr><td>left         </td><td>160</td></tr>\n",
       "\t<tr><td>employee     </td><td>154</td></tr>\n",
       "\t<tr><td>             </td><td>143</td></tr>\n",
       "\t<tr><td>operator     </td><td>122</td></tr>\n",
       "\t<tr><td>injury       </td><td>105</td></tr>\n",
       "\t<tr><td>time         </td><td>101</td></tr>\n",
       "\t<tr><td>activity     </td><td> 94</td></tr>\n",
       "\t<tr><td>moment       </td><td> 79</td></tr>\n",
       "\t<tr><td>equipment    </td><td> 77</td></tr>\n",
       "\t<tr><td>accident     </td><td> 73</td></tr>\n",
       "\t<tr><td>level        </td><td> 71</td></tr>\n",
       "\t<tr><td>collaborator </td><td> 68</td></tr>\n",
       "\t<tr><td>finger       </td><td> 68</td></tr>\n",
       "\t<tr><td>pipe         </td><td> 67</td></tr>\n",
       "\t<tr><td>floor        </td><td> 65</td></tr>\n",
       "\t<tr><td>assistant    </td><td> 62</td></tr>\n",
       "\t<tr><td>worker       </td><td> 60</td></tr>\n",
       "\t<tr><td>mesh         </td><td> 58</td></tr>\n",
       "\t<tr><td>support      </td><td> 58</td></tr>\n",
       "\t<tr><td>rock         </td><td> 55</td></tr>\n",
       "\t<tr><td>safety       </td><td> 53</td></tr>\n",
       "\t<tr><td>approximately</td><td> 48</td></tr>\n",
       "\t<tr><td>meters       </td><td> 48</td></tr>\n",
       "\t<tr><td>height       </td><td> 47</td></tr>\n",
       "\t<tr><td>metal        </td><td> 42</td></tr>\n",
       "\t<tr><td>team         </td><td> 42</td></tr>\n",
       "\t<tr><td>injured      </td><td> 41</td></tr>\n",
       "\t<tr><td>kg           </td><td> 41</td></tr>\n",
       "\t<tr><td>...</td><td>...</td></tr>\n",
       "\t<tr><td>wila          </td><td>1</td></tr>\n",
       "\t<tr><td>wilber        </td><td>1</td></tr>\n",
       "\t<tr><td>wilder        </td><td>1</td></tr>\n",
       "\t<tr><td>wilmer        </td><td>1</td></tr>\n",
       "\t<tr><td>winche        </td><td>1</td></tr>\n",
       "\t<tr><td>winemaker     </td><td>1</td></tr>\n",
       "\t<tr><td>winery        </td><td>1</td></tr>\n",
       "\t<tr><td>wires         </td><td>1</td></tr>\n",
       "\t<tr><td>withdrawing   </td><td>1</td></tr>\n",
       "\t<tr><td>withdrew      </td><td>1</td></tr>\n",
       "\t<tr><td>woman         </td><td>1</td></tr>\n",
       "\t<tr><td>workermechanic</td><td>1</td></tr>\n",
       "\t<tr><td>workplace     </td><td>1</td></tr>\n",
       "\t<tr><td>wounding      </td><td>1</td></tr>\n",
       "\t<tr><td>x3            </td><td>1</td></tr>\n",
       "\t<tr><td>x32           </td><td>1</td></tr>\n",
       "\t<tr><td>x40cm         </td><td>1</td></tr>\n",
       "\t<tr><td>x6            </td><td>1</td></tr>\n",
       "\t<tr><td>xray          </td><td>1</td></tr>\n",
       "\t<tr><td>xrd           </td><td>1</td></tr>\n",
       "\t<tr><td>xxx           </td><td>1</td></tr>\n",
       "\t<tr><td>yaranga       </td><td>1</td></tr>\n",
       "\t<tr><td>ydrs          </td><td>1</td></tr>\n",
       "\t<tr><td>yolk          </td><td>1</td></tr>\n",
       "\t<tr><td>z014          </td><td>1</td></tr>\n",
       "\t<tr><td>z132          </td><td>1</td></tr>\n",
       "\t<tr><td>z332          </td><td>1</td></tr>\n",
       "\t<tr><td>zaf           </td><td>1</td></tr>\n",
       "\t<tr><td>zamac         </td><td>1</td></tr>\n",
       "\t<tr><td>zinco         </td><td>1</td></tr>\n",
       "</tbody>\n",
       "</table>\n"
      ],
      "text/latex": [
       "A tibble: 3222 × 2\n",
       "\\begin{tabular}{ll}\n",
       " word & n\\\\\n",
       " <chr> & <int>\\\\\n",
       "\\hline\n",
       "\t causing       & 166\\\\\n",
       "\t hand          & 166\\\\\n",
       "\t left          & 160\\\\\n",
       "\t employee      & 154\\\\\n",
       "\t               & 143\\\\\n",
       "\t operator      & 122\\\\\n",
       "\t injury        & 105\\\\\n",
       "\t time          & 101\\\\\n",
       "\t activity      &  94\\\\\n",
       "\t moment        &  79\\\\\n",
       "\t equipment     &  77\\\\\n",
       "\t accident      &  73\\\\\n",
       "\t level         &  71\\\\\n",
       "\t collaborator  &  68\\\\\n",
       "\t finger        &  68\\\\\n",
       "\t pipe          &  67\\\\\n",
       "\t floor         &  65\\\\\n",
       "\t assistant     &  62\\\\\n",
       "\t worker        &  60\\\\\n",
       "\t mesh          &  58\\\\\n",
       "\t support       &  58\\\\\n",
       "\t rock          &  55\\\\\n",
       "\t safety        &  53\\\\\n",
       "\t approximately &  48\\\\\n",
       "\t meters        &  48\\\\\n",
       "\t height        &  47\\\\\n",
       "\t metal         &  42\\\\\n",
       "\t team          &  42\\\\\n",
       "\t injured       &  41\\\\\n",
       "\t kg            &  41\\\\\n",
       "\t ... & ...\\\\\n",
       "\t wila           & 1\\\\\n",
       "\t wilber         & 1\\\\\n",
       "\t wilder         & 1\\\\\n",
       "\t wilmer         & 1\\\\\n",
       "\t winche         & 1\\\\\n",
       "\t winemaker      & 1\\\\\n",
       "\t winery         & 1\\\\\n",
       "\t wires          & 1\\\\\n",
       "\t withdrawing    & 1\\\\\n",
       "\t withdrew       & 1\\\\\n",
       "\t woman          & 1\\\\\n",
       "\t workermechanic & 1\\\\\n",
       "\t workplace      & 1\\\\\n",
       "\t wounding       & 1\\\\\n",
       "\t x3             & 1\\\\\n",
       "\t x32            & 1\\\\\n",
       "\t x40cm          & 1\\\\\n",
       "\t x6             & 1\\\\\n",
       "\t xray           & 1\\\\\n",
       "\t xrd            & 1\\\\\n",
       "\t xxx            & 1\\\\\n",
       "\t yaranga        & 1\\\\\n",
       "\t ydrs           & 1\\\\\n",
       "\t yolk           & 1\\\\\n",
       "\t z014           & 1\\\\\n",
       "\t z132           & 1\\\\\n",
       "\t z332           & 1\\\\\n",
       "\t zaf            & 1\\\\\n",
       "\t zamac          & 1\\\\\n",
       "\t zinco          & 1\\\\\n",
       "\\end{tabular}\n"
      ],
      "text/markdown": [
       "\n",
       "A tibble: 3222 × 2\n",
       "\n",
       "| word &lt;chr&gt; | n &lt;int&gt; |\n",
       "|---|---|\n",
       "| causing       | 166 |\n",
       "| hand          | 166 |\n",
       "| left          | 160 |\n",
       "| employee      | 154 |\n",
       "| <!----> | 143 |\n",
       "| operator      | 122 |\n",
       "| injury        | 105 |\n",
       "| time          | 101 |\n",
       "| activity      |  94 |\n",
       "| moment        |  79 |\n",
       "| equipment     |  77 |\n",
       "| accident      |  73 |\n",
       "| level         |  71 |\n",
       "| collaborator  |  68 |\n",
       "| finger        |  68 |\n",
       "| pipe          |  67 |\n",
       "| floor         |  65 |\n",
       "| assistant     |  62 |\n",
       "| worker        |  60 |\n",
       "| mesh          |  58 |\n",
       "| support       |  58 |\n",
       "| rock          |  55 |\n",
       "| safety        |  53 |\n",
       "| approximately |  48 |\n",
       "| meters        |  48 |\n",
       "| height        |  47 |\n",
       "| metal         |  42 |\n",
       "| team          |  42 |\n",
       "| injured       |  41 |\n",
       "| kg            |  41 |\n",
       "| ... | ... |\n",
       "| wila           | 1 |\n",
       "| wilber         | 1 |\n",
       "| wilder         | 1 |\n",
       "| wilmer         | 1 |\n",
       "| winche         | 1 |\n",
       "| winemaker      | 1 |\n",
       "| winery         | 1 |\n",
       "| wires          | 1 |\n",
       "| withdrawing    | 1 |\n",
       "| withdrew       | 1 |\n",
       "| woman          | 1 |\n",
       "| workermechanic | 1 |\n",
       "| workplace      | 1 |\n",
       "| wounding       | 1 |\n",
       "| x3             | 1 |\n",
       "| x32            | 1 |\n",
       "| x40cm          | 1 |\n",
       "| x6             | 1 |\n",
       "| xray           | 1 |\n",
       "| xrd            | 1 |\n",
       "| xxx            | 1 |\n",
       "| yaranga        | 1 |\n",
       "| ydrs           | 1 |\n",
       "| yolk           | 1 |\n",
       "| z014           | 1 |\n",
       "| z132           | 1 |\n",
       "| z332           | 1 |\n",
       "| zaf            | 1 |\n",
       "| zamac          | 1 |\n",
       "| zinco          | 1 |\n",
       "\n"
      ],
      "text/plain": [
       "     word           n  \n",
       "1    causing        166\n",
       "2    hand           166\n",
       "3    left           160\n",
       "4    employee       154\n",
       "5                   143\n",
       "6    operator       122\n",
       "7    injury         105\n",
       "8    time           101\n",
       "9    activity        94\n",
       "10   moment          79\n",
       "11   equipment       77\n",
       "12   accident        73\n",
       "13   level           71\n",
       "14   collaborator    68\n",
       "15   finger          68\n",
       "16   pipe            67\n",
       "17   floor           65\n",
       "18   assistant       62\n",
       "19   worker          60\n",
       "20   mesh            58\n",
       "21   support         58\n",
       "22   rock            55\n",
       "23   safety          53\n",
       "24   approximately   48\n",
       "25   meters          48\n",
       "26   height          47\n",
       "27   metal           42\n",
       "28   team            42\n",
       "29   injured         41\n",
       "30   kg              41\n",
       "...  ...            ...\n",
       "3193 wila           1  \n",
       "3194 wilber         1  \n",
       "3195 wilder         1  \n",
       "3196 wilmer         1  \n",
       "3197 winche         1  \n",
       "3198 winemaker      1  \n",
       "3199 winery         1  \n",
       "3200 wires          1  \n",
       "3201 withdrawing    1  \n",
       "3202 withdrew       1  \n",
       "3203 woman          1  \n",
       "3204 workermechanic 1  \n",
       "3205 workplace      1  \n",
       "3206 wounding       1  \n",
       "3207 x3             1  \n",
       "3208 x32            1  \n",
       "3209 x40cm          1  \n",
       "3210 x6             1  \n",
       "3211 xray           1  \n",
       "3212 xrd            1  \n",
       "3213 xxx            1  \n",
       "3214 yaranga        1  \n",
       "3215 ydrs           1  \n",
       "3216 yolk           1  \n",
       "3217 z014           1  \n",
       "3218 z132           1  \n",
       "3219 z332           1  \n",
       "3220 zaf            1  \n",
       "3221 zamac          1  \n",
       "3222 zinco          1  "
      ]
     },
     "metadata": {},
     "output_type": "display_data"
    }
   ],
   "source": [
    "#Get Word Frequencies\n",
    "mb %>% count(word, sort = T)"
   ]
  },
  {
   "cell_type": "code",
   "execution_count": 25,
   "metadata": {},
   "outputs": [
    {
     "data": {
      "text/html": [
       "<table>\n",
       "<caption>A tibble: 48 × 2</caption>\n",
       "<thead>\n",
       "\t<tr><th scope=col>word</th><th scope=col>n</th></tr>\n",
       "\t<tr><th scope=col>&lt;chr&gt;</th><th scope=col>&lt;int&gt;</th></tr>\n",
       "</thead>\n",
       "<tbody>\n",
       "\t<tr><td>support    </td><td>58</td></tr>\n",
       "\t<tr><td>top        </td><td>16</td></tr>\n",
       "\t<tr><td>master     </td><td>12</td></tr>\n",
       "\t<tr><td>hot        </td><td> 8</td></tr>\n",
       "\t<tr><td>clean      </td><td> 7</td></tr>\n",
       "\t<tr><td>protection </td><td> 7</td></tr>\n",
       "\t<tr><td>striking   </td><td> 7</td></tr>\n",
       "\t<tr><td>positive   </td><td> 6</td></tr>\n",
       "\t<tr><td>protective </td><td> 5</td></tr>\n",
       "\t<tr><td>divine     </td><td> 4</td></tr>\n",
       "\t<tr><td>free       </td><td> 4</td></tr>\n",
       "\t<tr><td>recovery   </td><td> 4</td></tr>\n",
       "\t<tr><td>supported  </td><td> 4</td></tr>\n",
       "\t<tr><td>supporting </td><td> 4</td></tr>\n",
       "\t<tr><td>supports   </td><td> 4</td></tr>\n",
       "\t<tr><td>correct    </td><td> 3</td></tr>\n",
       "\t<tr><td>fine       </td><td> 3</td></tr>\n",
       "\t<tr><td>safe       </td><td> 3</td></tr>\n",
       "\t<tr><td>boom       </td><td> 2</td></tr>\n",
       "\t<tr><td>excited    </td><td> 2</td></tr>\n",
       "\t<tr><td>fans       </td><td> 2</td></tr>\n",
       "\t<tr><td>solid      </td><td> 2</td></tr>\n",
       "\t<tr><td>strong     </td><td> 2</td></tr>\n",
       "\t<tr><td>superior   </td><td> 2</td></tr>\n",
       "\t<tr><td>comfort    </td><td> 1</td></tr>\n",
       "\t<tr><td>correctly  </td><td> 1</td></tr>\n",
       "\t<tr><td>effective  </td><td> 1</td></tr>\n",
       "\t<tr><td>energize   </td><td> 1</td></tr>\n",
       "\t<tr><td>facilitate </td><td> 1</td></tr>\n",
       "\t<tr><td>favor      </td><td> 1</td></tr>\n",
       "\t<tr><td>flexible   </td><td> 1</td></tr>\n",
       "\t<tr><td>freed      </td><td> 1</td></tr>\n",
       "\t<tr><td>improve    </td><td> 1</td></tr>\n",
       "\t<tr><td>leads      </td><td> 1</td></tr>\n",
       "\t<tr><td>led        </td><td> 1</td></tr>\n",
       "\t<tr><td>portable   </td><td> 1</td></tr>\n",
       "\t<tr><td>progress   </td><td> 1</td></tr>\n",
       "\t<tr><td>progressive</td><td> 1</td></tr>\n",
       "\t<tr><td>promptly   </td><td> 1</td></tr>\n",
       "\t<tr><td>properly   </td><td> 1</td></tr>\n",
       "\t<tr><td>rapid      </td><td> 1</td></tr>\n",
       "\t<tr><td>remedy     </td><td> 1</td></tr>\n",
       "\t<tr><td>sensation  </td><td> 1</td></tr>\n",
       "\t<tr><td>soft       </td><td> 1</td></tr>\n",
       "\t<tr><td>stability  </td><td> 1</td></tr>\n",
       "\t<tr><td>success    </td><td> 1</td></tr>\n",
       "\t<tr><td>thinner    </td><td> 1</td></tr>\n",
       "\t<tr><td>timely     </td><td> 1</td></tr>\n",
       "</tbody>\n",
       "</table>\n"
      ],
      "text/latex": [
       "A tibble: 48 × 2\n",
       "\\begin{tabular}{ll}\n",
       " word & n\\\\\n",
       " <chr> & <int>\\\\\n",
       "\\hline\n",
       "\t support     & 58\\\\\n",
       "\t top         & 16\\\\\n",
       "\t master      & 12\\\\\n",
       "\t hot         &  8\\\\\n",
       "\t clean       &  7\\\\\n",
       "\t protection  &  7\\\\\n",
       "\t striking    &  7\\\\\n",
       "\t positive    &  6\\\\\n",
       "\t protective  &  5\\\\\n",
       "\t divine      &  4\\\\\n",
       "\t free        &  4\\\\\n",
       "\t recovery    &  4\\\\\n",
       "\t supported   &  4\\\\\n",
       "\t supporting  &  4\\\\\n",
       "\t supports    &  4\\\\\n",
       "\t correct     &  3\\\\\n",
       "\t fine        &  3\\\\\n",
       "\t safe        &  3\\\\\n",
       "\t boom        &  2\\\\\n",
       "\t excited     &  2\\\\\n",
       "\t fans        &  2\\\\\n",
       "\t solid       &  2\\\\\n",
       "\t strong      &  2\\\\\n",
       "\t superior    &  2\\\\\n",
       "\t comfort     &  1\\\\\n",
       "\t correctly   &  1\\\\\n",
       "\t effective   &  1\\\\\n",
       "\t energize    &  1\\\\\n",
       "\t facilitate  &  1\\\\\n",
       "\t favor       &  1\\\\\n",
       "\t flexible    &  1\\\\\n",
       "\t freed       &  1\\\\\n",
       "\t improve     &  1\\\\\n",
       "\t leads       &  1\\\\\n",
       "\t led         &  1\\\\\n",
       "\t portable    &  1\\\\\n",
       "\t progress    &  1\\\\\n",
       "\t progressive &  1\\\\\n",
       "\t promptly    &  1\\\\\n",
       "\t properly    &  1\\\\\n",
       "\t rapid       &  1\\\\\n",
       "\t remedy      &  1\\\\\n",
       "\t sensation   &  1\\\\\n",
       "\t soft        &  1\\\\\n",
       "\t stability   &  1\\\\\n",
       "\t success     &  1\\\\\n",
       "\t thinner     &  1\\\\\n",
       "\t timely      &  1\\\\\n",
       "\\end{tabular}\n"
      ],
      "text/markdown": [
       "\n",
       "A tibble: 48 × 2\n",
       "\n",
       "| word &lt;chr&gt; | n &lt;int&gt; |\n",
       "|---|---|\n",
       "| support     | 58 |\n",
       "| top         | 16 |\n",
       "| master      | 12 |\n",
       "| hot         |  8 |\n",
       "| clean       |  7 |\n",
       "| protection  |  7 |\n",
       "| striking    |  7 |\n",
       "| positive    |  6 |\n",
       "| protective  |  5 |\n",
       "| divine      |  4 |\n",
       "| free        |  4 |\n",
       "| recovery    |  4 |\n",
       "| supported   |  4 |\n",
       "| supporting  |  4 |\n",
       "| supports    |  4 |\n",
       "| correct     |  3 |\n",
       "| fine        |  3 |\n",
       "| safe        |  3 |\n",
       "| boom        |  2 |\n",
       "| excited     |  2 |\n",
       "| fans        |  2 |\n",
       "| solid       |  2 |\n",
       "| strong      |  2 |\n",
       "| superior    |  2 |\n",
       "| comfort     |  1 |\n",
       "| correctly   |  1 |\n",
       "| effective   |  1 |\n",
       "| energize    |  1 |\n",
       "| facilitate  |  1 |\n",
       "| favor       |  1 |\n",
       "| flexible    |  1 |\n",
       "| freed       |  1 |\n",
       "| improve     |  1 |\n",
       "| leads       |  1 |\n",
       "| led         |  1 |\n",
       "| portable    |  1 |\n",
       "| progress    |  1 |\n",
       "| progressive |  1 |\n",
       "| promptly    |  1 |\n",
       "| properly    |  1 |\n",
       "| rapid       |  1 |\n",
       "| remedy      |  1 |\n",
       "| sensation   |  1 |\n",
       "| soft        |  1 |\n",
       "| stability   |  1 |\n",
       "| success     |  1 |\n",
       "| thinner     |  1 |\n",
       "| timely      |  1 |\n",
       "\n"
      ],
      "text/plain": [
       "   word        n \n",
       "1  support     58\n",
       "2  top         16\n",
       "3  master      12\n",
       "4  hot          8\n",
       "5  clean        7\n",
       "6  protection   7\n",
       "7  striking     7\n",
       "8  positive     6\n",
       "9  protective   5\n",
       "10 divine       4\n",
       "11 free         4\n",
       "12 recovery     4\n",
       "13 supported    4\n",
       "14 supporting   4\n",
       "15 supports     4\n",
       "16 correct      3\n",
       "17 fine         3\n",
       "18 safe         3\n",
       "19 boom         2\n",
       "20 excited      2\n",
       "21 fans         2\n",
       "22 solid        2\n",
       "23 strong       2\n",
       "24 superior     2\n",
       "25 comfort      1\n",
       "26 correctly    1\n",
       "27 effective    1\n",
       "28 energize     1\n",
       "29 facilitate   1\n",
       "30 favor        1\n",
       "31 flexible     1\n",
       "32 freed        1\n",
       "33 improve      1\n",
       "34 leads        1\n",
       "35 led          1\n",
       "36 portable     1\n",
       "37 progress     1\n",
       "38 progressive  1\n",
       "39 promptly     1\n",
       "40 properly     1\n",
       "41 rapid        1\n",
       "42 remedy       1\n",
       "43 sensation    1\n",
       "44 soft         1\n",
       "45 stability    1\n",
       "46 success      1\n",
       "47 thinner      1\n",
       "48 timely       1"
      ]
     },
     "metadata": {},
     "output_type": "display_data"
    }
   ],
   "source": [
    "#Get +ve words\n",
    "positive <- get_sentiments(\"bing\") %>%\n",
    "  filter(sentiment == \"positive\")\n",
    "\n",
    "semi_join(mb, positive, by = \"word\") %>%\n",
    "  count(word, sort = TRUE)"
   ]
  },
  {
   "cell_type": "code",
   "execution_count": 26,
   "metadata": {},
   "outputs": [
    {
     "data": {
      "text/html": [
       "<table>\n",
       "<caption>A tibble: 168 × 2</caption>\n",
       "<thead>\n",
       "\t<tr><th scope=col>word</th><th scope=col>n</th></tr>\n",
       "\t<tr><th scope=col>&lt;chr&gt;</th><th scope=col>&lt;int&gt;</th></tr>\n",
       "</thead>\n",
       "<tbody>\n",
       "\t<tr><td>injury     </td><td>105</td></tr>\n",
       "\t<tr><td>falls      </td><td> 31</td></tr>\n",
       "\t<tr><td>fall       </td><td> 25</td></tr>\n",
       "\t<tr><td>falling    </td><td> 19</td></tr>\n",
       "\t<tr><td>allergic   </td><td> 16</td></tr>\n",
       "\t<tr><td>wound      </td><td> 16</td></tr>\n",
       "\t<tr><td>fell       </td><td> 14</td></tr>\n",
       "\t<tr><td>pain       </td><td> 14</td></tr>\n",
       "\t<tr><td>sting      </td><td> 14</td></tr>\n",
       "\t<tr><td>tank       </td><td> 14</td></tr>\n",
       "\t<tr><td>burn       </td><td> 13</td></tr>\n",
       "\t<tr><td>grating    </td><td> 13</td></tr>\n",
       "\t<tr><td>struck     </td><td> 11</td></tr>\n",
       "\t<tr><td>suffered   </td><td> 11</td></tr>\n",
       "\t<tr><td>swelling   </td><td> 11</td></tr>\n",
       "\t<tr><td>split      </td><td> 10</td></tr>\n",
       "\t<tr><td>superficial</td><td> 10</td></tr>\n",
       "\t<tr><td>noise      </td><td>  9</td></tr>\n",
       "\t<tr><td>untimely   </td><td>  9</td></tr>\n",
       "\t<tr><td>broken     </td><td>  8</td></tr>\n",
       "\t<tr><td>discomfort </td><td>  8</td></tr>\n",
       "\t<tr><td>suffering  </td><td>  8</td></tr>\n",
       "\t<tr><td>blow       </td><td>  7</td></tr>\n",
       "\t<tr><td>gutter     </td><td>  7</td></tr>\n",
       "\t<tr><td>irritation </td><td>  7</td></tr>\n",
       "\t<tr><td>suffers    </td><td>  7</td></tr>\n",
       "\t<tr><td>breaks     </td><td>  6</td></tr>\n",
       "\t<tr><td>emergency  </td><td>  6</td></tr>\n",
       "\t<tr><td>loose      </td><td>  6</td></tr>\n",
       "\t<tr><td>loses      </td><td>  6</td></tr>\n",
       "\t<tr><td>...</td><td>...</td></tr>\n",
       "\t<tr><td>neglected  </td><td>1</td></tr>\n",
       "\t<tr><td>object     </td><td>1</td></tr>\n",
       "\t<tr><td>obstruct   </td><td>1</td></tr>\n",
       "\t<tr><td>obstructing</td><td>1</td></tr>\n",
       "\t<tr><td>obstruction</td><td>1</td></tr>\n",
       "\t<tr><td>pig        </td><td>1</td></tr>\n",
       "\t<tr><td>pique      </td><td>1</td></tr>\n",
       "\t<tr><td>resistance </td><td>1</td></tr>\n",
       "\t<tr><td>retreat    </td><td>1</td></tr>\n",
       "\t<tr><td>risk       </td><td>1</td></tr>\n",
       "\t<tr><td>scare      </td><td>1</td></tr>\n",
       "\t<tr><td>shake      </td><td>1</td></tr>\n",
       "\t<tr><td>slaughter  </td><td>1</td></tr>\n",
       "\t<tr><td>slow       </td><td>1</td></tr>\n",
       "\t<tr><td>steep      </td><td>1</td></tr>\n",
       "\t<tr><td>strained   </td><td>1</td></tr>\n",
       "\t<tr><td>stumbles   </td><td>1</td></tr>\n",
       "\t<tr><td>stun       </td><td>1</td></tr>\n",
       "\t<tr><td>subjection </td><td>1</td></tr>\n",
       "\t<tr><td>symptoms   </td><td>1</td></tr>\n",
       "\t<tr><td>taut       </td><td>1</td></tr>\n",
       "\t<tr><td>trapped    </td><td>1</td></tr>\n",
       "\t<tr><td>traumatic  </td><td>1</td></tr>\n",
       "\t<tr><td>twisted    </td><td>1</td></tr>\n",
       "\t<tr><td>uneven     </td><td>1</td></tr>\n",
       "\t<tr><td>unstable   </td><td>1</td></tr>\n",
       "\t<tr><td>violent    </td><td>1</td></tr>\n",
       "\t<tr><td>violently  </td><td>1</td></tr>\n",
       "\t<tr><td>wedge      </td><td>1</td></tr>\n",
       "\t<tr><td>weed       </td><td>1</td></tr>\n",
       "</tbody>\n",
       "</table>\n"
      ],
      "text/latex": [
       "A tibble: 168 × 2\n",
       "\\begin{tabular}{ll}\n",
       " word & n\\\\\n",
       " <chr> & <int>\\\\\n",
       "\\hline\n",
       "\t injury      & 105\\\\\n",
       "\t falls       &  31\\\\\n",
       "\t fall        &  25\\\\\n",
       "\t falling     &  19\\\\\n",
       "\t allergic    &  16\\\\\n",
       "\t wound       &  16\\\\\n",
       "\t fell        &  14\\\\\n",
       "\t pain        &  14\\\\\n",
       "\t sting       &  14\\\\\n",
       "\t tank        &  14\\\\\n",
       "\t burn        &  13\\\\\n",
       "\t grating     &  13\\\\\n",
       "\t struck      &  11\\\\\n",
       "\t suffered    &  11\\\\\n",
       "\t swelling    &  11\\\\\n",
       "\t split       &  10\\\\\n",
       "\t superficial &  10\\\\\n",
       "\t noise       &   9\\\\\n",
       "\t untimely    &   9\\\\\n",
       "\t broken      &   8\\\\\n",
       "\t discomfort  &   8\\\\\n",
       "\t suffering   &   8\\\\\n",
       "\t blow        &   7\\\\\n",
       "\t gutter      &   7\\\\\n",
       "\t irritation  &   7\\\\\n",
       "\t suffers     &   7\\\\\n",
       "\t breaks      &   6\\\\\n",
       "\t emergency   &   6\\\\\n",
       "\t loose       &   6\\\\\n",
       "\t loses       &   6\\\\\n",
       "\t ... & ...\\\\\n",
       "\t neglected   & 1\\\\\n",
       "\t object      & 1\\\\\n",
       "\t obstruct    & 1\\\\\n",
       "\t obstructing & 1\\\\\n",
       "\t obstruction & 1\\\\\n",
       "\t pig         & 1\\\\\n",
       "\t pique       & 1\\\\\n",
       "\t resistance  & 1\\\\\n",
       "\t retreat     & 1\\\\\n",
       "\t risk        & 1\\\\\n",
       "\t scare       & 1\\\\\n",
       "\t shake       & 1\\\\\n",
       "\t slaughter   & 1\\\\\n",
       "\t slow        & 1\\\\\n",
       "\t steep       & 1\\\\\n",
       "\t strained    & 1\\\\\n",
       "\t stumbles    & 1\\\\\n",
       "\t stun        & 1\\\\\n",
       "\t subjection  & 1\\\\\n",
       "\t symptoms    & 1\\\\\n",
       "\t taut        & 1\\\\\n",
       "\t trapped     & 1\\\\\n",
       "\t traumatic   & 1\\\\\n",
       "\t twisted     & 1\\\\\n",
       "\t uneven      & 1\\\\\n",
       "\t unstable    & 1\\\\\n",
       "\t violent     & 1\\\\\n",
       "\t violently   & 1\\\\\n",
       "\t wedge       & 1\\\\\n",
       "\t weed        & 1\\\\\n",
       "\\end{tabular}\n"
      ],
      "text/markdown": [
       "\n",
       "A tibble: 168 × 2\n",
       "\n",
       "| word &lt;chr&gt; | n &lt;int&gt; |\n",
       "|---|---|\n",
       "| injury      | 105 |\n",
       "| falls       |  31 |\n",
       "| fall        |  25 |\n",
       "| falling     |  19 |\n",
       "| allergic    |  16 |\n",
       "| wound       |  16 |\n",
       "| fell        |  14 |\n",
       "| pain        |  14 |\n",
       "| sting       |  14 |\n",
       "| tank        |  14 |\n",
       "| burn        |  13 |\n",
       "| grating     |  13 |\n",
       "| struck      |  11 |\n",
       "| suffered    |  11 |\n",
       "| swelling    |  11 |\n",
       "| split       |  10 |\n",
       "| superficial |  10 |\n",
       "| noise       |   9 |\n",
       "| untimely    |   9 |\n",
       "| broken      |   8 |\n",
       "| discomfort  |   8 |\n",
       "| suffering   |   8 |\n",
       "| blow        |   7 |\n",
       "| gutter      |   7 |\n",
       "| irritation  |   7 |\n",
       "| suffers     |   7 |\n",
       "| breaks      |   6 |\n",
       "| emergency   |   6 |\n",
       "| loose       |   6 |\n",
       "| loses       |   6 |\n",
       "| ... | ... |\n",
       "| neglected   | 1 |\n",
       "| object      | 1 |\n",
       "| obstruct    | 1 |\n",
       "| obstructing | 1 |\n",
       "| obstruction | 1 |\n",
       "| pig         | 1 |\n",
       "| pique       | 1 |\n",
       "| resistance  | 1 |\n",
       "| retreat     | 1 |\n",
       "| risk        | 1 |\n",
       "| scare       | 1 |\n",
       "| shake       | 1 |\n",
       "| slaughter   | 1 |\n",
       "| slow        | 1 |\n",
       "| steep       | 1 |\n",
       "| strained    | 1 |\n",
       "| stumbles    | 1 |\n",
       "| stun        | 1 |\n",
       "| subjection  | 1 |\n",
       "| symptoms    | 1 |\n",
       "| taut        | 1 |\n",
       "| trapped     | 1 |\n",
       "| traumatic   | 1 |\n",
       "| twisted     | 1 |\n",
       "| uneven      | 1 |\n",
       "| unstable    | 1 |\n",
       "| violent     | 1 |\n",
       "| violently   | 1 |\n",
       "| wedge       | 1 |\n",
       "| weed        | 1 |\n",
       "\n"
      ],
      "text/plain": [
       "    word        n  \n",
       "1   injury      105\n",
       "2   falls        31\n",
       "3   fall         25\n",
       "4   falling      19\n",
       "5   allergic     16\n",
       "6   wound        16\n",
       "7   fell         14\n",
       "8   pain         14\n",
       "9   sting        14\n",
       "10  tank         14\n",
       "11  burn         13\n",
       "12  grating      13\n",
       "13  struck       11\n",
       "14  suffered     11\n",
       "15  swelling     11\n",
       "16  split        10\n",
       "17  superficial  10\n",
       "18  noise         9\n",
       "19  untimely      9\n",
       "20  broken        8\n",
       "21  discomfort    8\n",
       "22  suffering     8\n",
       "23  blow          7\n",
       "24  gutter        7\n",
       "25  irritation    7\n",
       "26  suffers       7\n",
       "27  breaks        6\n",
       "28  emergency     6\n",
       "29  loose         6\n",
       "30  loses         6\n",
       "... ...         ...\n",
       "139 neglected   1  \n",
       "140 object      1  \n",
       "141 obstruct    1  \n",
       "142 obstructing 1  \n",
       "143 obstruction 1  \n",
       "144 pig         1  \n",
       "145 pique       1  \n",
       "146 resistance  1  \n",
       "147 retreat     1  \n",
       "148 risk        1  \n",
       "149 scare       1  \n",
       "150 shake       1  \n",
       "151 slaughter   1  \n",
       "152 slow        1  \n",
       "153 steep       1  \n",
       "154 strained    1  \n",
       "155 stumbles    1  \n",
       "156 stun        1  \n",
       "157 subjection  1  \n",
       "158 symptoms    1  \n",
       "159 taut        1  \n",
       "160 trapped     1  \n",
       "161 traumatic   1  \n",
       "162 twisted     1  \n",
       "163 uneven      1  \n",
       "164 unstable    1  \n",
       "165 violent     1  \n",
       "166 violently   1  \n",
       "167 wedge       1  \n",
       "168 weed        1  "
      ]
     },
     "metadata": {},
     "output_type": "display_data"
    }
   ],
   "source": [
    "#Get -ve words\n",
    "negative <- get_sentiments(\"bing\") %>%\n",
    "  filter(sentiment == \"negative\")\n",
    "\n",
    "semi_join(mb, negative, by = \"word\") %>%\n",
    "  count(word, sort = T)"
   ]
  },
  {
   "cell_type": "code",
   "execution_count": 27,
   "metadata": {},
   "outputs": [
    {
     "name": "stderr",
     "output_type": "stream",
     "text": [
      "Joining, by = \"word\"\n",
      "\n"
     ]
    }
   ],
   "source": [
    "#Alternative methods for getting +ve & -ve sentiments\n",
    "bing  <- get_sentiments(\"bing\")\n",
    "\n",
    "my_sentiment <- mb %>%\n",
    "  inner_join(bing) %>%\n",
    "  count(word, sentiment, sort = T)"
   ]
  },
  {
   "cell_type": "code",
   "execution_count": 28,
   "metadata": {},
   "outputs": [
    {
     "data": {
      "image/png": "[encoded data removed]",
      "text/plain": [
       "plot without title"
      ]
     },
     "metadata": {
      "image/png": {
       "height": 420,
       "width": 420
      }
     },
     "output_type": "display_data"
    }
   ],
   "source": [
    "#Word CLoud Visualization\n",
    "library(ggwordcloud)\n",
    "my_sentiment %>%\n",
    "  filter(n>2) %>%\n",
    "  ggplot(aes(size = n, label = word, color = sentiment)) +\n",
    "  geom_text_wordcloud() +\n",
    "  scale_size_area(max_size = 20) +\n",
    "  ggtitle(\"Contribution to Sentiment\")"
   ]
  },
  {
   "cell_type": "code",
   "execution_count": null,
   "metadata": {},
   "outputs": [],
   "source": []
  }
 ],
 "metadata": {
  "kernelspec": {
   "display_name": "R",
   "language": "R",
   "name": "ir"
  },
  "language_info": {
   "codemirror_mode": "r",
   "file_extension": ".r",
   "mimetype": "text/x-r-source",
   "name": "R",
   "pygments_lexer": "r",
   "version": "4.0.0"
  }
 },
 "nbformat": 4,
 "nbformat_minor": 2
}
